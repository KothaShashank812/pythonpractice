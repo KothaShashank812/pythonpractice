{
 "cells": [
  {
   "cell_type": "markdown",
   "id": "1e507370-89d5-43d6-a99c-4dcbf0b6819d",
   "metadata": {},
   "source": [
    "ASSIGNMENT 1"
   ]
  },
  {
   "cell_type": "code",
   "execution_count": 3,
   "id": "df834227-3a27-4568-9ac2-a257e4164bb8",
   "metadata": {},
   "outputs": [
    {
     "name": "stdout",
     "output_type": "stream",
     "text": [
      "Number of Rows and Columns: (1156, 7)\n"
     ]
    }
   ],
   "source": [
    "import pandas as pd\n",
    "uber_d=pd.read_csv(\"C://Users/Admin/Documents/Uber_Drives_2016.csv\")\n",
    "# Display number of rows and columns\n",
    "print(\"Number of Rows and Columns:\", uber_d.shape)"
   ]
  },
  {
   "cell_type": "code",
   "execution_count": 10,
   "id": "2f25803d-dd28-49c2-8f00-5ce012bb70a0",
   "metadata": {},
   "outputs": [
    {
     "name": "stdout",
     "output_type": "stream",
     "text": [
      "\n",
      "Unique Categories in CATEGORY column:\n",
      "['Business' 'Personal' nan]\n"
     ]
    }
   ],
   "source": [
    "# Show unique categories in CATEGORY column (before renaming)\n",
    "print(\"\\nUnique Categories in CATEGORY column:\")\n",
    "print(uber_d['CATEGORY*'].unique())\n"
   ]
  },
  {
   "cell_type": "code",
   "execution_count": 7,
   "id": "49594eca-1d5b-4b72-9ae8-f86945eb0869",
   "metadata": {},
   "outputs": [
    {
     "name": "stdout",
     "output_type": "stream",
     "text": [
      "\n",
      "Number of Null Values in PURPOSE column:\n",
      "503\n"
     ]
    }
   ],
   "source": [
    "# Find how many null values are there in PURPOSE\n",
    "print(\"\\nNumber of Null Values in PURPOSE column:\")\n",
    "print(uber_d['PURPOSE*'].isnull().sum())"
   ]
  },
  {
   "cell_type": "code",
   "execution_count": 6,
   "id": "b90e8fb7-94cd-4d6b-9236-791e2260fdbe",
   "metadata": {},
   "outputs": [
    {
     "data": {
      "text/html": [
       "<div>\n",
       "<style scoped>\n",
       "    .dataframe tbody tr th:only-of-type {\n",
       "        vertical-align: middle;\n",
       "    }\n",
       "\n",
       "    .dataframe tbody tr th {\n",
       "        vertical-align: top;\n",
       "    }\n",
       "\n",
       "    .dataframe thead th {\n",
       "        text-align: right;\n",
       "    }\n",
       "</style>\n",
       "<table border=\"1\" class=\"dataframe\">\n",
       "  <thead>\n",
       "    <tr style=\"text-align: right;\">\n",
       "      <th></th>\n",
       "      <th>START_DATE*</th>\n",
       "      <th>END_DATE*</th>\n",
       "      <th>CATEGORY*</th>\n",
       "      <th>START*</th>\n",
       "      <th>STOP*</th>\n",
       "      <th>MILES*</th>\n",
       "      <th>PURPOSE*</th>\n",
       "    </tr>\n",
       "  </thead>\n",
       "  <tbody>\n",
       "    <tr>\n",
       "      <th>0</th>\n",
       "      <td>1/1/2016 21:11</td>\n",
       "      <td>1/1/2016 21:17</td>\n",
       "      <td>Business</td>\n",
       "      <td>Fort Pierce</td>\n",
       "      <td>Fort Pierce</td>\n",
       "      <td>5.1</td>\n",
       "      <td>Meal/Entertain</td>\n",
       "    </tr>\n",
       "    <tr>\n",
       "      <th>1</th>\n",
       "      <td>1/2/2016 1:25</td>\n",
       "      <td>1/2/2016 1:37</td>\n",
       "      <td>Business</td>\n",
       "      <td>Fort Pierce</td>\n",
       "      <td>Fort Pierce</td>\n",
       "      <td>5.0</td>\n",
       "      <td>NaN</td>\n",
       "    </tr>\n",
       "    <tr>\n",
       "      <th>2</th>\n",
       "      <td>1/2/2016 20:25</td>\n",
       "      <td>1/2/2016 20:38</td>\n",
       "      <td>Business</td>\n",
       "      <td>Fort Pierce</td>\n",
       "      <td>Fort Pierce</td>\n",
       "      <td>4.8</td>\n",
       "      <td>Errand/Supplies</td>\n",
       "    </tr>\n",
       "    <tr>\n",
       "      <th>3</th>\n",
       "      <td>1/5/2016 17:31</td>\n",
       "      <td>1/5/2016 17:45</td>\n",
       "      <td>Business</td>\n",
       "      <td>Fort Pierce</td>\n",
       "      <td>Fort Pierce</td>\n",
       "      <td>4.7</td>\n",
       "      <td>Meeting</td>\n",
       "    </tr>\n",
       "    <tr>\n",
       "      <th>4</th>\n",
       "      <td>1/6/2016 14:42</td>\n",
       "      <td>1/6/2016 15:49</td>\n",
       "      <td>Business</td>\n",
       "      <td>Fort Pierce</td>\n",
       "      <td>West Palm Beach</td>\n",
       "      <td>63.7</td>\n",
       "      <td>Customer Visit</td>\n",
       "    </tr>\n",
       "  </tbody>\n",
       "</table>\n",
       "</div>"
      ],
      "text/plain": [
       "      START_DATE*       END_DATE* CATEGORY*       START*            STOP*  \\\n",
       "0  1/1/2016 21:11  1/1/2016 21:17  Business  Fort Pierce      Fort Pierce   \n",
       "1   1/2/2016 1:25   1/2/2016 1:37  Business  Fort Pierce      Fort Pierce   \n",
       "2  1/2/2016 20:25  1/2/2016 20:38  Business  Fort Pierce      Fort Pierce   \n",
       "3  1/5/2016 17:31  1/5/2016 17:45  Business  Fort Pierce      Fort Pierce   \n",
       "4  1/6/2016 14:42  1/6/2016 15:49  Business  Fort Pierce  West Palm Beach   \n",
       "\n",
       "   MILES*         PURPOSE*  \n",
       "0     5.1   Meal/Entertain  \n",
       "1     5.0              NaN  \n",
       "2     4.8  Errand/Supplies  \n",
       "3     4.7          Meeting  \n",
       "4    63.7   Customer Visit  "
      ]
     },
     "execution_count": 6,
     "metadata": {},
     "output_type": "execute_result"
    }
   ],
   "source": [
    "import pandas as pd\n",
    "uber_d=pd.read_csv(\"C://Users/Admin/Documents/Uber_Drives_2016.csv\")\n",
    "uber_d.head()"
   ]
  },
  {
   "cell_type": "code",
   "execution_count": 6,
   "id": "3307e6b4-5f6e-414d-bad2-b605cf08fba5",
   "metadata": {},
   "outputs": [
    {
     "name": "stdout",
     "output_type": "stream",
     "text": [
      "\n",
      "Columns after renaming:\n",
      "Index(['START_DATE*', 'END_DATE*', 'CATEGORY*', 'START*', 'STOP*', 'MILES*',\n",
      "       'PURPOSE*', 'TRIP_DURATION*'],\n",
      "      dtype='object')\n"
     ]
    }
   ],
   "source": [
    "# Rename all columns to uppercase\n",
    "uber_d.columns = [col.upper() for col in uber_d.columns]\n",
    "print(\"\\nColumns after renaming:\")\n",
    "print(uber_d.columns)"
   ]
  },
  {
   "cell_type": "code",
   "execution_count": null,
   "id": "c6cdd0e0-32e2-4c0b-b2b2-0d7e259760f5",
   "metadata": {},
   "outputs": [],
   "source": [
    "ASSIGNMENT 2"
   ]
  },
  {
   "cell_type": "code",
   "execution_count": 32,
   "id": "98faffaa-289c-4fb4-9e09-e272267d42cb",
   "metadata": {},
   "outputs": [
    {
     "name": "stdout",
     "output_type": "stream",
     "text": [
      "           START_DATE*         END_DATE*   MILES* CATEGORY*        PURPOSE*\n",
      "1155            Totals               NaN  12204.7       NaN   Not Specified\n",
      "269    3/25/2016 16:52   3/25/2016 22:22    310.3  Business  Customer Visit\n",
      "270    3/25/2016 22:54    3/26/2016 1:39    201.0  Business         Meeting\n",
      "881   10/30/2016 15:22  10/30/2016 18:23    195.9  Business   Not Specified\n",
      "776    9/27/2016 21:01    9/28/2016 2:37    195.6  Business   Not Specified\n"
     ]
    }
   ],
   "source": [
    "\n",
    "# Sort trips by distance in descending order\n",
    "sortq = uber_d.sort_values(by='MILES*', ascending=False)\n",
    "print(sortq[['START_DATE*', 'END_DATE*', 'MILES*', 'CATEGORY*', 'PURPOSE*']].head())\n"
   ]
  },
  {
   "cell_type": "code",
   "execution_count": 15,
   "id": "b432abb1-3978-4435-ae85-f524be415e9e",
   "metadata": {},
   "outputs": [
    {
     "name": "stdout",
     "output_type": "stream",
     "text": [
      "      START_DATE*       END_DATE* CATEGORY*       START*            STOP*  \\\n",
      "0  1/1/2016 21:11  1/1/2016 21:17  Business  Fort Pierce      Fort Pierce   \n",
      "1   1/2/2016 1:25   1/2/2016 1:37  Business  Fort Pierce      Fort Pierce   \n",
      "2  1/2/2016 20:25  1/2/2016 20:38  Business  Fort Pierce      Fort Pierce   \n",
      "3  1/5/2016 17:31  1/5/2016 17:45  Business  Fort Pierce      Fort Pierce   \n",
      "4  1/6/2016 14:42  1/6/2016 15:49  Business  Fort Pierce  West Palm Beach   \n",
      "\n",
      "   MILES*         PURPOSE*  \n",
      "0     5.1   Meal/Entertain  \n",
      "1     5.0              NaN  \n",
      "2     4.8  Errand/Supplies  \n",
      "3     4.7          Meeting  \n",
      "4    63.7   Customer Visit  \n"
     ]
    }
   ],
   "source": [
    "# Display rides where CATEGORY == 'Business'\n",
    "b = uber_d[uber_d['CATEGORY*'] == 'Business']\n",
    "print(b.head())"
   ]
  },
  {
   "cell_type": "code",
   "execution_count": 18,
   "id": "d1dc869f-31c6-4a9d-9a33-19b9ff4dfe61",
   "metadata": {
    "scrolled": true
   },
   "outputs": [
    {
     "name": "stdout",
     "output_type": "stream",
     "text": [
      "       MILES* CATEGORY*        PURPOSE*\n",
      "1155  12204.7       NaN             NaN\n",
      "269     310.3  Business  Customer Visit\n",
      "270     201.0  Business         Meeting\n",
      "881     195.9  Business             NaN\n",
      "776     195.6  Business             NaN\n"
     ]
    }
   ],
   "source": [
    "# Show top 5 rides with the longest distance (MILES)\n",
    "dis = uber_d.nlargest(5, 'MILES*')\n",
    "print(dis[['MILES*', 'CATEGORY*', 'PURPOSE*']])"
   ]
  },
  {
   "cell_type": "code",
   "execution_count": 33,
   "id": "f90100c2-ec01-403a-b776-2583e69a96d3",
   "metadata": {},
   "outputs": [],
   "source": [
    "# Replace all missing PURPOSE values with \"Not Specified\"\n",
    "uber_d['PURPOSE*'].fillna(\"Not Specified\", inplace=True)"
   ]
  },
  {
   "cell_type": "code",
   "execution_count": 5,
   "id": "8f461442-9d95-48d2-9d5a-05b00baac60d",
   "metadata": {},
   "outputs": [
    {
     "name": "stdout",
     "output_type": "stream",
     "text": [
      "Trip duration sample:\n",
      "           START_DATE*           END_DATE*  TRIP_DURATION*\n",
      "0 2016-01-01 21:11:00 2016-01-01 21:17:00 0 days 00:06:00\n",
      "1 2016-01-02 01:25:00 2016-01-02 01:37:00 0 days 00:12:00\n",
      "2 2016-01-02 20:25:00 2016-01-02 20:38:00 0 days 00:13:00\n",
      "3 2016-01-05 17:31:00 2016-01-05 17:45:00 0 days 00:14:00\n",
      "4 2016-01-06 14:42:00 2016-01-06 15:49:00 0 days 01:07:00\n"
     ]
    }
   ],
   "source": [
    "# Remove rows where START_DATE* or END_DATE* are invalid (like 'Totals')\n",
    "uber_d = uber_d[~uber_d['START_DATE*'].astype(str).str.contains(\"Totals\", case=False, na=False)]\n",
    "\n",
    "# Safely convert START_DATE* and END_DATE* to datetime (ignore invalid formats)\n",
    "uber_d['START_DATE*'] = pd.to_datetime(uber_d['START_DATE*'], errors='coerce')\n",
    "uber_d['END_DATE*'] = pd.to_datetime(uber_d['END_DATE*'], errors='coerce')\n",
    "\n",
    "# Create TRIP_DURATION* column (auto handles NaT values)\n",
    "uber_d['TRIP_DURATION*'] = uber_d['END_DATE*'] - uber_d['START_DATE*']\n",
    "\n",
    "# Display first few records\n",
    "print(\"Trip duration sample:\\n\", uber_d[['START_DATE*', 'END_DATE*', 'TRIP_DURATION*']].head())\n",
    "\n"
   ]
  },
  {
   "cell_type": "code",
   "execution_count": null,
   "id": "c676beab-fcfb-426b-ab45-719ca056d86d",
   "metadata": {},
   "outputs": [],
   "source": []
  }
 ],
 "metadata": {
  "kernelspec": {
   "display_name": "Python 3 (ipykernel)",
   "language": "python",
   "name": "python3"
  },
  "language_info": {
   "codemirror_mode": {
    "name": "ipython",
    "version": 3
   },
   "file_extension": ".py",
   "mimetype": "text/x-python",
   "name": "python",
   "nbconvert_exporter": "python",
   "pygments_lexer": "ipython3",
   "version": "3.13.5"
  }
 },
 "nbformat": 4,
 "nbformat_minor": 5
}
